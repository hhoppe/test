{
 "cells": [
  {
   "cell_type": "markdown",
   "id": "2f382c4f-b373-4838-8d40-abee084747b4",
   "metadata": {
    "tags": []
   },
   "source": [
    "# Test notebook"
   ]
  },
  {
   "cell_type": "markdown",
   "id": "e38f349b-8ae3-45f3-ac70-4eed33b66781",
   "metadata": {
    "tags": []
   },
   "source": [
    "This notebook tests if these markdown images appear when the notebook file is viewed within github.\n",
    "\n",
    "Absolute link back to github:\n",
    "<img src=\"https://github.com/hhoppe/test/raw/main/images/lake.png\" width=\"120\"/>\n",
    "<img src=\"https://github.com/hhoppe/test/raw/main/images/lake.png\"/>\n",
    "<img src=\"https://github.com/hhoppe/test/raw/main/images/lake.png\">\n",
    "\n",
    "<p/>\n",
    "\n",
    "Local link:\n",
    "<img src=\"images/lake.png\" width=\"120\"/>\n",
    "<img src=\"images/lake.png\"/>\n",
    "<img src=\"images/lake.png\">"
   ]
  }
 ],
 "metadata": {
  "colab": {
   "collapsed_sections": [],
   "provenance": [],
   "toc_visible": true
  },
  "jupytext": {
   "cell_metadata_filter": "-all",
   "formats": "ipynb,py:percent",
   "main_language": "python",
   "notebook_metadata_filter": "-all"
  },
  "kernelspec": {
   "display_name": "Python 3 (ipykernel)",
   "language": "python",
   "name": "python3"
  },
  "language_info": {
   "codemirror_mode": {
    "name": "ipython",
    "version": 3
   },
   "file_extension": ".py",
   "mimetype": "text/x-python",
   "name": "python",
   "nbconvert_exporter": "python",
   "pygments_lexer": "ipython3",
   "version": "3.10.12"
  }
 },
 "nbformat": 4,
 "nbformat_minor": 5
}
